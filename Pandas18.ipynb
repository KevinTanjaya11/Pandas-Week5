{
 "cells": [
  {
   "cell_type": "code",
   "execution_count": 2,
   "id": "72a77a93",
   "metadata": {},
   "outputs": [
    {
     "name": "stdout",
     "output_type": "stream",
     "text": [
      "1.2.4\n",
      "1.20.1\n"
     ]
    }
   ],
   "source": [
    "import pandas as pd\n",
    "import numpy as np\n",
    "\n",
    "print(pd.__version__)\n",
    "print(np.__version__)\n",
    "#import dua modul penting"
   ]
  },
  {
   "cell_type": "code",
   "execution_count": 3,
   "id": "94fb0fc7",
   "metadata": {},
   "outputs": [
    {
     "data": {
      "text/html": [
       "<div>\n",
       "<style scoped>\n",
       "    .dataframe tbody tr th:only-of-type {\n",
       "        vertical-align: middle;\n",
       "    }\n",
       "\n",
       "    .dataframe tbody tr th {\n",
       "        vertical-align: top;\n",
       "    }\n",
       "\n",
       "    .dataframe thead th {\n",
       "        text-align: right;\n",
       "    }\n",
       "</style>\n",
       "<table border=\"1\" class=\"dataframe\">\n",
       "  <thead>\n",
       "    <tr style=\"text-align: right;\">\n",
       "      <th></th>\n",
       "      <th>col1</th>\n",
       "      <th>col2</th>\n",
       "    </tr>\n",
       "  </thead>\n",
       "  <tbody>\n",
       "    <tr>\n",
       "      <th>0</th>\n",
       "      <td>1</td>\n",
       "      <td>5</td>\n",
       "    </tr>\n",
       "    <tr>\n",
       "      <th>1</th>\n",
       "      <td>2</td>\n",
       "      <td>6</td>\n",
       "    </tr>\n",
       "    <tr>\n",
       "      <th>2</th>\n",
       "      <td>3</td>\n",
       "      <td>7</td>\n",
       "    </tr>\n",
       "    <tr>\n",
       "      <th>3</th>\n",
       "      <td>4</td>\n",
       "      <td>8</td>\n",
       "    </tr>\n",
       "  </tbody>\n",
       "</table>\n",
       "</div>"
      ],
      "text/plain": [
       "   col1  col2\n",
       "0     1     5\n",
       "1     2     6\n",
       "2     3     7\n",
       "3     4     8"
      ]
     },
     "execution_count": 3,
     "metadata": {},
     "output_type": "execute_result"
    }
   ],
   "source": [
    "pd.DataFrame({'col1':[1, 2, 3, 4],\n",
    "              'col2':[5, 6, 7, 8]})\n",
    "#data frame akan berisi data dari dua kolom tersebut yaitu col1: 1,2,3,4 dan col2: 5,6,7,8"
   ]
  },
  {
   "cell_type": "code",
   "execution_count": 4,
   "id": "e9e67987",
   "metadata": {},
   "outputs": [
    {
     "data": {
      "text/plain": [
       "array([[13,  1, 17],\n",
       "       [14, 10,  2],\n",
       "       [ 7, 17,  7],\n",
       "       [ 7, 17, 12],\n",
       "       [11,  6,  4]])"
      ]
     },
     "execution_count": 4,
     "metadata": {},
     "output_type": "execute_result"
    }
   ],
   "source": [
    "n_rows = 5\n",
    "n_cols = 3\n",
    "\n",
    "arr = np.random.randint(1, 20, size=(n_rows, n_cols))\n",
    "arr\n",
    "#ukuran row/baris 5, colomns/kolom 3\n",
    "#data yang dihasilkan data angka yang random atau acak"
   ]
  },
  {
   "cell_type": "code",
   "execution_count": 5,
   "id": "274908d0",
   "metadata": {},
   "outputs": [
    {
     "data": {
      "text/html": [
       "<div>\n",
       "<style scoped>\n",
       "    .dataframe tbody tr th:only-of-type {\n",
       "        vertical-align: middle;\n",
       "    }\n",
       "\n",
       "    .dataframe tbody tr th {\n",
       "        vertical-align: top;\n",
       "    }\n",
       "\n",
       "    .dataframe thead th {\n",
       "        text-align: right;\n",
       "    }\n",
       "</style>\n",
       "<table border=\"1\" class=\"dataframe\">\n",
       "  <thead>\n",
       "    <tr style=\"text-align: right;\">\n",
       "      <th></th>\n",
       "      <th>A</th>\n",
       "      <th>B</th>\n",
       "      <th>C</th>\n",
       "    </tr>\n",
       "  </thead>\n",
       "  <tbody>\n",
       "    <tr>\n",
       "      <th>0</th>\n",
       "      <td>13</td>\n",
       "      <td>1</td>\n",
       "      <td>17</td>\n",
       "    </tr>\n",
       "    <tr>\n",
       "      <th>1</th>\n",
       "      <td>14</td>\n",
       "      <td>10</td>\n",
       "      <td>2</td>\n",
       "    </tr>\n",
       "    <tr>\n",
       "      <th>2</th>\n",
       "      <td>7</td>\n",
       "      <td>17</td>\n",
       "      <td>7</td>\n",
       "    </tr>\n",
       "    <tr>\n",
       "      <th>3</th>\n",
       "      <td>7</td>\n",
       "      <td>17</td>\n",
       "      <td>12</td>\n",
       "    </tr>\n",
       "    <tr>\n",
       "      <th>4</th>\n",
       "      <td>11</td>\n",
       "      <td>6</td>\n",
       "      <td>4</td>\n",
       "    </tr>\n",
       "  </tbody>\n",
       "</table>\n",
       "</div>"
      ],
      "text/plain": [
       "    A   B   C\n",
       "0  13   1  17\n",
       "1  14  10   2\n",
       "2   7  17   7\n",
       "3   7  17  12\n",
       "4  11   6   4"
      ]
     },
     "execution_count": 5,
     "metadata": {},
     "output_type": "execute_result"
    }
   ],
   "source": [
    "pd.DataFrame(arr, columns=tuple('ABC'))\n",
    "#akan menyertakkan label di tiap kolom dengan menerapakan fungsi tuple ABC untuk mendapatkan nilai string"
   ]
  },
  {
   "cell_type": "code",
   "execution_count": 6,
   "id": "afa7e134",
   "metadata": {},
   "outputs": [
    {
     "name": "stderr",
     "output_type": "stream",
     "text": [
      "C:\\Users\\User\\anaconda3\\lib\\site-packages\\pandas\\util\\__init__.py:8: FutureWarning: pandas.util.testing is deprecated. Use the functions in the public API at pandas.testing instead.\n",
      "  import pandas.util.testing\n"
     ]
    },
    {
     "data": {
      "text/html": [
       "<div>\n",
       "<style scoped>\n",
       "    .dataframe tbody tr th:only-of-type {\n",
       "        vertical-align: middle;\n",
       "    }\n",
       "\n",
       "    .dataframe tbody tr th {\n",
       "        vertical-align: top;\n",
       "    }\n",
       "\n",
       "    .dataframe thead th {\n",
       "        text-align: right;\n",
       "    }\n",
       "</style>\n",
       "<table border=\"1\" class=\"dataframe\">\n",
       "  <thead>\n",
       "    <tr style=\"text-align: right;\">\n",
       "      <th></th>\n",
       "      <th>A</th>\n",
       "      <th>B</th>\n",
       "      <th>C</th>\n",
       "      <th>D</th>\n",
       "    </tr>\n",
       "  </thead>\n",
       "  <tbody>\n",
       "    <tr>\n",
       "      <th>fN2wuzzOWE</th>\n",
       "      <td>-1.090909</td>\n",
       "      <td>-2.602228</td>\n",
       "      <td>-1.814816</td>\n",
       "      <td>-1.057181</td>\n",
       "    </tr>\n",
       "    <tr>\n",
       "      <th>Mj3E4EJ3PO</th>\n",
       "      <td>1.161068</td>\n",
       "      <td>-0.490008</td>\n",
       "      <td>0.727759</td>\n",
       "      <td>1.717512</td>\n",
       "    </tr>\n",
       "    <tr>\n",
       "      <th>N29aYjsLyK</th>\n",
       "      <td>0.332998</td>\n",
       "      <td>0.303149</td>\n",
       "      <td>0.953291</td>\n",
       "      <td>1.010280</td>\n",
       "    </tr>\n",
       "    <tr>\n",
       "      <th>ZUnzwYBztA</th>\n",
       "      <td>0.137095</td>\n",
       "      <td>-0.847424</td>\n",
       "      <td>0.719815</td>\n",
       "      <td>0.773320</td>\n",
       "    </tr>\n",
       "    <tr>\n",
       "      <th>Jp5tgMpUYh</th>\n",
       "      <td>-0.891706</td>\n",
       "      <td>-1.499209</td>\n",
       "      <td>-1.745864</td>\n",
       "      <td>-0.327380</td>\n",
       "    </tr>\n",
       "  </tbody>\n",
       "</table>\n",
       "</div>"
      ],
      "text/plain": [
       "                   A         B         C         D\n",
       "fN2wuzzOWE -1.090909 -2.602228 -1.814816 -1.057181\n",
       "Mj3E4EJ3PO  1.161068 -0.490008  0.727759  1.717512\n",
       "N29aYjsLyK  0.332998  0.303149  0.953291  1.010280\n",
       "ZUnzwYBztA  0.137095 -0.847424  0.719815  0.773320\n",
       "Jp5tgMpUYh -0.891706 -1.499209 -1.745864 -0.327380"
      ]
     },
     "execution_count": 6,
     "metadata": {},
     "output_type": "execute_result"
    }
   ],
   "source": [
    "pd.util.testing.makeDataFrame().head()\n",
    "#make data frame akan membuat data sederhana"
   ]
  },
  {
   "cell_type": "code",
   "execution_count": 7,
   "id": "cd4e8ff4",
   "metadata": {},
   "outputs": [
    {
     "data": {
      "text/html": [
       "<div>\n",
       "<style scoped>\n",
       "    .dataframe tbody tr th:only-of-type {\n",
       "        vertical-align: middle;\n",
       "    }\n",
       "\n",
       "    .dataframe tbody tr th {\n",
       "        vertical-align: top;\n",
       "    }\n",
       "\n",
       "    .dataframe thead th {\n",
       "        text-align: right;\n",
       "    }\n",
       "</style>\n",
       "<table border=\"1\" class=\"dataframe\">\n",
       "  <thead>\n",
       "    <tr style=\"text-align: right;\">\n",
       "      <th></th>\n",
       "      <th>A</th>\n",
       "      <th>B</th>\n",
       "      <th>C</th>\n",
       "      <th>D</th>\n",
       "    </tr>\n",
       "  </thead>\n",
       "  <tbody>\n",
       "    <tr>\n",
       "      <th>0</th>\n",
       "      <td>0.0</td>\n",
       "      <td>0.0</td>\n",
       "      <td>foo1</td>\n",
       "      <td>2009-01-01</td>\n",
       "    </tr>\n",
       "    <tr>\n",
       "      <th>1</th>\n",
       "      <td>1.0</td>\n",
       "      <td>1.0</td>\n",
       "      <td>foo2</td>\n",
       "      <td>2009-01-02</td>\n",
       "    </tr>\n",
       "    <tr>\n",
       "      <th>2</th>\n",
       "      <td>2.0</td>\n",
       "      <td>0.0</td>\n",
       "      <td>foo3</td>\n",
       "      <td>2009-01-05</td>\n",
       "    </tr>\n",
       "    <tr>\n",
       "      <th>3</th>\n",
       "      <td>3.0</td>\n",
       "      <td>1.0</td>\n",
       "      <td>foo4</td>\n",
       "      <td>2009-01-06</td>\n",
       "    </tr>\n",
       "    <tr>\n",
       "      <th>4</th>\n",
       "      <td>4.0</td>\n",
       "      <td>0.0</td>\n",
       "      <td>foo5</td>\n",
       "      <td>2009-01-07</td>\n",
       "    </tr>\n",
       "  </tbody>\n",
       "</table>\n",
       "</div>"
      ],
      "text/plain": [
       "     A    B     C          D\n",
       "0  0.0  0.0  foo1 2009-01-01\n",
       "1  1.0  1.0  foo2 2009-01-02\n",
       "2  2.0  0.0  foo3 2009-01-05\n",
       "3  3.0  1.0  foo4 2009-01-06\n",
       "4  4.0  0.0  foo5 2009-01-07"
      ]
     },
     "execution_count": 7,
     "metadata": {},
     "output_type": "execute_result"
    }
   ],
   "source": [
    "pd.util.testing.makeMixedDataFrame().head()\n",
    "#make MIxed Data Frame, tipe data campur dan bervariasi"
   ]
  },
  {
   "cell_type": "code",
   "execution_count": 8,
   "id": "ca69aaa5",
   "metadata": {},
   "outputs": [
    {
     "data": {
      "text/html": [
       "<div>\n",
       "<style scoped>\n",
       "    .dataframe tbody tr th:only-of-type {\n",
       "        vertical-align: middle;\n",
       "    }\n",
       "\n",
       "    .dataframe tbody tr th {\n",
       "        vertical-align: top;\n",
       "    }\n",
       "\n",
       "    .dataframe thead th {\n",
       "        text-align: right;\n",
       "    }\n",
       "</style>\n",
       "<table border=\"1\" class=\"dataframe\">\n",
       "  <thead>\n",
       "    <tr style=\"text-align: right;\">\n",
       "      <th></th>\n",
       "      <th>A</th>\n",
       "      <th>B</th>\n",
       "      <th>C</th>\n",
       "      <th>D</th>\n",
       "    </tr>\n",
       "  </thead>\n",
       "  <tbody>\n",
       "    <tr>\n",
       "      <th>2000-01-03</th>\n",
       "      <td>0.754769</td>\n",
       "      <td>-1.200436</td>\n",
       "      <td>1.418087</td>\n",
       "      <td>0.866744</td>\n",
       "    </tr>\n",
       "    <tr>\n",
       "      <th>2000-01-04</th>\n",
       "      <td>-0.017078</td>\n",
       "      <td>-0.277166</td>\n",
       "      <td>-1.808387</td>\n",
       "      <td>0.315954</td>\n",
       "    </tr>\n",
       "    <tr>\n",
       "      <th>2000-01-05</th>\n",
       "      <td>1.424787</td>\n",
       "      <td>-0.522519</td>\n",
       "      <td>1.032121</td>\n",
       "      <td>-0.054864</td>\n",
       "    </tr>\n",
       "    <tr>\n",
       "      <th>2000-01-06</th>\n",
       "      <td>-1.089257</td>\n",
       "      <td>-0.122229</td>\n",
       "      <td>-1.551267</td>\n",
       "      <td>0.064861</td>\n",
       "    </tr>\n",
       "    <tr>\n",
       "      <th>2000-01-07</th>\n",
       "      <td>0.523074</td>\n",
       "      <td>-0.214705</td>\n",
       "      <td>0.215492</td>\n",
       "      <td>-0.736497</td>\n",
       "    </tr>\n",
       "  </tbody>\n",
       "</table>\n",
       "</div>"
      ],
      "text/plain": [
       "                   A         B         C         D\n",
       "2000-01-03  0.754769 -1.200436  1.418087  0.866744\n",
       "2000-01-04 -0.017078 -0.277166 -1.808387  0.315954\n",
       "2000-01-05  1.424787 -0.522519  1.032121 -0.054864\n",
       "2000-01-06 -1.089257 -0.122229 -1.551267  0.064861\n",
       "2000-01-07  0.523074 -0.214705  0.215492 -0.736497"
      ]
     },
     "execution_count": 8,
     "metadata": {},
     "output_type": "execute_result"
    }
   ],
   "source": [
    "pd.util.testing.makeTimeDataFrame().head()\n",
    "# Time data Frame, data frame berisi data deret waktu dari tabel berikut"
   ]
  },
  {
   "cell_type": "code",
   "execution_count": 10,
   "id": "08a0a574",
   "metadata": {},
   "outputs": [
    {
     "data": {
      "text/html": [
       "<div>\n",
       "<style scoped>\n",
       "    .dataframe tbody tr th:only-of-type {\n",
       "        vertical-align: middle;\n",
       "    }\n",
       "\n",
       "    .dataframe tbody tr th {\n",
       "        vertical-align: top;\n",
       "    }\n",
       "\n",
       "    .dataframe thead th {\n",
       "        text-align: right;\n",
       "    }\n",
       "</style>\n",
       "<table border=\"1\" class=\"dataframe\">\n",
       "  <thead>\n",
       "    <tr style=\"text-align: right;\">\n",
       "      <th></th>\n",
       "      <th>A</th>\n",
       "      <th>B</th>\n",
       "      <th>C</th>\n",
       "      <th>D</th>\n",
       "    </tr>\n",
       "  </thead>\n",
       "  <tbody>\n",
       "    <tr>\n",
       "      <th>NnKoJ3LYyF</th>\n",
       "      <td>-0.068013</td>\n",
       "      <td>0.081773</td>\n",
       "      <td>0.858546</td>\n",
       "      <td>-0.446405</td>\n",
       "    </tr>\n",
       "    <tr>\n",
       "      <th>UL1LvoeiZr</th>\n",
       "      <td>NaN</td>\n",
       "      <td>-0.431805</td>\n",
       "      <td>-1.390548</td>\n",
       "      <td>0.126304</td>\n",
       "    </tr>\n",
       "    <tr>\n",
       "      <th>bcByzXx5Jg</th>\n",
       "      <td>0.173721</td>\n",
       "      <td>0.309644</td>\n",
       "      <td>NaN</td>\n",
       "      <td>-0.236571</td>\n",
       "    </tr>\n",
       "    <tr>\n",
       "      <th>3QMx4Dyb91</th>\n",
       "      <td>-1.244606</td>\n",
       "      <td>-0.440618</td>\n",
       "      <td>0.182087</td>\n",
       "      <td>1.465865</td>\n",
       "    </tr>\n",
       "    <tr>\n",
       "      <th>Hqpfd0uGJa</th>\n",
       "      <td>0.638489</td>\n",
       "      <td>0.532322</td>\n",
       "      <td>0.257688</td>\n",
       "      <td>-0.939044</td>\n",
       "    </tr>\n",
       "  </tbody>\n",
       "</table>\n",
       "</div>"
      ],
      "text/plain": [
       "                   A         B         C         D\n",
       "NnKoJ3LYyF -0.068013  0.081773  0.858546 -0.446405\n",
       "UL1LvoeiZr       NaN -0.431805 -1.390548  0.126304\n",
       "bcByzXx5Jg  0.173721  0.309644       NaN -0.236571\n",
       "3QMx4Dyb91 -1.244606 -0.440618  0.182087  1.465865\n",
       "Hqpfd0uGJa  0.638489  0.532322  0.257688 -0.939044"
      ]
     },
     "execution_count": 10,
     "metadata": {},
     "output_type": "execute_result"
    }
   ],
   "source": [
    "pd.util.testing.makeMissingDataframe().head()\n",
    "#make Missing data frame, data missing value yang ditetapkan secara acak dengan cara memanggil menggunakan make missing data frame"
   ]
  },
  {
   "cell_type": "code",
   "execution_count": null,
   "id": "446eebb7",
   "metadata": {},
   "outputs": [],
   "source": []
  }
 ],
 "metadata": {
  "kernelspec": {
   "display_name": "Python 3",
   "language": "python",
   "name": "python3"
  },
  "language_info": {
   "codemirror_mode": {
    "name": "ipython",
    "version": 3
   },
   "file_extension": ".py",
   "mimetype": "text/x-python",
   "name": "python",
   "nbconvert_exporter": "python",
   "pygments_lexer": "ipython3",
   "version": "3.8.8"
  }
 },
 "nbformat": 4,
 "nbformat_minor": 5
}
